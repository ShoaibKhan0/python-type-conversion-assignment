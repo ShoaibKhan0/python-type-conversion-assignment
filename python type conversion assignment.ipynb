{
 "cells": [
  {
   "cell_type": "code",
   "execution_count": 1,
   "id": "a77ca523-f1af-436f-b9ab-67e462079610",
   "metadata": {},
   "outputs": [],
   "source": [
    "#1.Convert an integer to a floating-point number."
   ]
  },
  {
   "cell_type": "code",
   "execution_count": 2,
   "id": "8c405f7b-d801-4920-8cde-4cec20d11b93",
   "metadata": {},
   "outputs": [
    {
     "data": {
      "text/plain": [
       "int"
      ]
     },
     "execution_count": 2,
     "metadata": {},
     "output_type": "execute_result"
    }
   ],
   "source": [
    "integer_num = 45\n",
    "type(integer_num)"
   ]
  },
  {
   "cell_type": "code",
   "execution_count": 3,
   "id": "6fdf14d0-e95b-4a35-a9fa-079ea844dceb",
   "metadata": {},
   "outputs": [
    {
     "name": "stdout",
     "output_type": "stream",
     "text": [
      "45.0\n"
     ]
    }
   ],
   "source": [
    "float_num = float(integer_num)\n",
    "print(float_num)"
   ]
  },
  {
   "cell_type": "code",
   "execution_count": 4,
   "id": "b1aac58c-ddfb-48dc-b3ce-d0a1846da3b2",
   "metadata": {},
   "outputs": [],
   "source": [
    "#2. Convert a float to an integer."
   ]
  },
  {
   "cell_type": "code",
   "execution_count": 5,
   "id": "f0a9cf25-4b17-496e-8beb-3e8ceca28b18",
   "metadata": {},
   "outputs": [
    {
     "name": "stdout",
     "output_type": "stream",
     "text": [
      "71\n"
     ]
    }
   ],
   "source": [
    "float_num = 71.7\n",
    "integer_num = int(float_num)\n",
    "print(integer_num)"
   ]
  },
  {
   "cell_type": "code",
   "execution_count": 6,
   "id": "9f524a65-8f1c-48ed-937e-0e163bd2bcd8",
   "metadata": {},
   "outputs": [],
   "source": [
    "#3. Convert a integer to a string."
   ]
  },
  {
   "cell_type": "code",
   "execution_count": 7,
   "id": "fa697bdc-b5bf-4b37-8619-be1fa789fb6a",
   "metadata": {},
   "outputs": [
    {
     "data": {
      "text/plain": [
       "int"
      ]
     },
     "execution_count": 7,
     "metadata": {},
     "output_type": "execute_result"
    }
   ],
   "source": [
    "interger_num = 77\n",
    "type(integer_num)"
   ]
  },
  {
   "cell_type": "code",
   "execution_count": 8,
   "id": "cadbbb0f-00b7-46eb-bc44-7eade201fa6f",
   "metadata": {},
   "outputs": [
    {
     "name": "stdout",
     "output_type": "stream",
     "text": [
      "<class 'str'>\n"
     ]
    }
   ],
   "source": [
    "string = str(integer_num)\n",
    "print(type(string))"
   ]
  },
  {
   "cell_type": "code",
   "execution_count": 9,
   "id": "5709e8b5-ca06-4778-b336-eac76215c56e",
   "metadata": {},
   "outputs": [],
   "source": [
    "#4. Convert a list to a tuple."
   ]
  },
  {
   "cell_type": "code",
   "execution_count": 10,
   "id": "f9a2afce-264a-4643-82c1-ad59c708a3ad",
   "metadata": {},
   "outputs": [
    {
     "data": {
      "text/plain": [
       "list"
      ]
     },
     "execution_count": 10,
     "metadata": {},
     "output_type": "execute_result"
    }
   ],
   "source": [
    "l = [1,2,3,4,5]\n",
    "type(l)"
   ]
  },
  {
   "cell_type": "code",
   "execution_count": 11,
   "id": "9ea7724d-9c9c-492a-8f59-eef6c273717b",
   "metadata": {},
   "outputs": [
    {
     "name": "stdout",
     "output_type": "stream",
     "text": [
      "(1, 2, 3, 4, 5)\n"
     ]
    },
    {
     "data": {
      "text/plain": [
       "tuple"
      ]
     },
     "execution_count": 11,
     "metadata": {},
     "output_type": "execute_result"
    }
   ],
   "source": [
    "t = tuple(l)\n",
    "print(t)\n",
    "type(t)"
   ]
  },
  {
   "cell_type": "code",
   "execution_count": 12,
   "id": "5cd57de2-efeb-4d7b-9412-d2f5bb07724e",
   "metadata": {},
   "outputs": [],
   "source": [
    "#5. Convert a tuple to a list."
   ]
  },
  {
   "cell_type": "code",
   "execution_count": 13,
   "id": "1d7553c4-18e9-4e84-8bba-2ad9437f182c",
   "metadata": {},
   "outputs": [
    {
     "data": {
      "text/plain": [
       "tuple"
      ]
     },
     "execution_count": 13,
     "metadata": {},
     "output_type": "execute_result"
    }
   ],
   "source": [
    "t = (9,8,7,6,5)\n",
    "type(t)"
   ]
  },
  {
   "cell_type": "code",
   "execution_count": 14,
   "id": "cb3dacba-b3f2-4376-8f7c-8ad81f6ca992",
   "metadata": {},
   "outputs": [
    {
     "name": "stdout",
     "output_type": "stream",
     "text": [
      "[9, 8, 7, 6, 5]\n"
     ]
    },
    {
     "data": {
      "text/plain": [
       "list"
      ]
     },
     "execution_count": 14,
     "metadata": {},
     "output_type": "execute_result"
    }
   ],
   "source": [
    "l = list(t)\n",
    "print(l)\n",
    "type(l)"
   ]
  },
  {
   "cell_type": "code",
   "execution_count": 15,
   "id": "9b9a1ae2-8194-4342-85e6-1005462ddf10",
   "metadata": {},
   "outputs": [],
   "source": [
    "#6. Convert a decimal number to binary."
   ]
  },
  {
   "cell_type": "code",
   "execution_count": 16,
   "id": "452e273d-f5ce-4b3b-b9ef-f4186634ba66",
   "metadata": {},
   "outputs": [
    {
     "name": "stdout",
     "output_type": "stream",
     "text": [
      "0b1000110\n"
     ]
    }
   ],
   "source": [
    "decimal_num = 70\n",
    "binary_num = bin(decimal_num)\n",
    "print(binary_num)"
   ]
  },
  {
   "cell_type": "code",
   "execution_count": 17,
   "id": "58434a91-ec91-4797-991f-3c459ba1682b",
   "metadata": {},
   "outputs": [],
   "source": [
    "#7. Convert a non-zero number to boolean."
   ]
  },
  {
   "cell_type": "code",
   "execution_count": 18,
   "id": "57c420ef-1c89-4ea8-ba70-569b72bcc74c",
   "metadata": {},
   "outputs": [
    {
     "name": "stdout",
     "output_type": "stream",
     "text": [
      "True\n"
     ]
    }
   ],
   "source": [
    "n = 72\n",
    "boolean_num = bool(72)\n",
    "print(boolean_num)"
   ]
  },
  {
   "cell_type": "code",
   "execution_count": null,
   "id": "725ba884-d880-46bd-a1e8-22e6e37beda3",
   "metadata": {},
   "outputs": [],
   "source": []
  },
  {
   "cell_type": "code",
   "execution_count": null,
   "id": "53e06304-0170-4096-8676-4f86cb9e268b",
   "metadata": {},
   "outputs": [],
   "source": []
  }
 ],
 "metadata": {
  "kernelspec": {
   "display_name": "Python 3 (ipykernel)",
   "language": "python",
   "name": "python3"
  },
  "language_info": {
   "codemirror_mode": {
    "name": "ipython",
    "version": 3
   },
   "file_extension": ".py",
   "mimetype": "text/x-python",
   "name": "python",
   "nbconvert_exporter": "python",
   "pygments_lexer": "ipython3",
   "version": "3.10.8"
  }
 },
 "nbformat": 4,
 "nbformat_minor": 5
}
